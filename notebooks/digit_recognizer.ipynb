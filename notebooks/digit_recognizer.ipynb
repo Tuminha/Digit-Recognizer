{
  "cells": [
    {
      "cell_type": "markdown",
      "metadata": {},
      "source": [
        "# 🚢 Digit Recognizer - Neural Network Learning Journey\n",
        "\n",
        "**Learning neural networks through the classic MNIST handwritten digit recognition challenge**\n",
        "\n",
        "---\n",
        "\n",
        "## 🎯 Learning Objectives\n",
        "\n",
        "By the end of this notebook, you will:\n",
        "- Understand how neural networks work from the ground up\n",
        "- Implement a neural network from scratch using PyTorch\n",
        "- Learn about forward propagation, backpropagation, and gradient descent\n",
        "- Train your first deep learning model\n",
        "- Evaluate model performance and make predictions\n",
        "\n",
        "---\n",
        "\n",
        "## 📋 Project Structure\n",
        "\n",
        "This notebook is organized into learning phases:\n",
        "1. **Environment Setup** - Import libraries and check setup\n",
        "2. **Data Exploration** - Load and understand the MNIST dataset\n",
        "3. **Neural Network Basics** - Learn the theory and implement from scratch\n",
        "4. **Training Pipeline** - Build the training loop and optimization\n",
        "5. **Model Evaluation** - Test performance and analyze results\n",
        "6. **Kaggle Submission** - Generate predictions for competition\n",
        "\n",
        "---\n"
      ]
    },
    {
      "cell_type": "markdown",
      "metadata": {},
      "source": [
        "## Phase 1: Environment Setup 🔧\n",
        "\n",
        "Let's start by importing all the necessary libraries and checking our environment.\n"
      ]
    },
    {
      "cell_type": "code",
      "execution_count": null,
      "metadata": {},
      "outputs": [],
      "source": [
        "# TODO: Import the following libraries\n",
        "# - pandas (for data manipulation)\n",
        "# - numpy (for numerical operations)\n",
        "# - matplotlib.pyplot (for plotting)\n",
        "# - seaborn (for statistical visualizations)\n",
        "# - torch (PyTorch for neural networks)\n",
        "# - torch.nn (neural network modules)\n",
        "# - torch.optim (optimizers)\n",
        "# - torch.nn.functional (activation functions)\n",
        "# - sklearn.model_selection (for train/test split)\n",
        "# - sklearn.metrics (for evaluation metrics)\n",
        "\n",
        "# HINT: Use import statements like:\n",
        "# import pandas as pd\n",
        "# import numpy as np\n",
        "# import matplotlib.pyplot as plt\n",
        "# etc.\n",
        "\n",
        "# YOUR CODE HERE\n"
      ]
    },
    {
      "cell_type": "code",
      "execution_count": null,
      "metadata": {},
      "outputs": [],
      "source": [
        "# TODO: Check your PyTorch version and device availability\n",
        "# Print the PyTorch version\n",
        "# Check if CUDA is available (for GPU training)\n",
        "# Set the device to use (CPU or GPU)\n",
        "\n",
        "# HINT: Use torch.__version__ and torch.cuda.is_available()\n",
        "# Set device = torch.device('cuda' if torch.cuda.is_available() else 'cpu')\n",
        "\n",
        "# YOUR CODE HERE\n"
      ]
    },
    {
      "cell_type": "markdown",
      "metadata": {},
      "source": [
        "## Phase 2: Data Exploration 📊\n",
        "\n",
        "Now let's load and explore the MNIST dataset. The MNIST dataset contains 70,000 images of handwritten digits (0-9), each 28x28 pixels.\n"
      ]
    },
    {
      "cell_type": "code",
      "execution_count": null,
      "metadata": {},
      "outputs": [],
      "source": [
        "# TODO: Load the training data\n",
        "# Read the train.csv file from the data/ directory\n",
        "# Display basic information about the dataset\n",
        "# Show the first few rows\n",
        "\n",
        "# HINT: Use pd.read_csv('data/train.csv')\n",
        "# Use .info(), .head(), .shape to explore the data\n",
        "\n",
        "# YOUR CODE HERE\n"
      ]
    },
    {
      "cell_type": "code",
      "execution_count": null,
      "metadata": {},
      "outputs": [],
      "source": [
        "# TODO: Separate features and labels\n",
        "# The first column is 'label' (the digit 0-9)\n",
        "# The remaining 784 columns are pixel values (28x28 = 784)\n",
        "# Create X (features) and y (labels) variables\n",
        "\n",
        "# HINT: Use .iloc[:, 1:] for features and .iloc[:, 0] for labels\n",
        "# Convert to numpy arrays using .values\n",
        "\n",
        "# YOUR CODE HERE\n"
      ]
    },
    {
      "cell_type": "code",
      "execution_count": null,
      "metadata": {},
      "outputs": [],
      "source": [
        "# TODO: Explore the data distribution\n",
        "# Count how many samples we have for each digit (0-9)\n",
        "# Create a bar plot showing the distribution\n",
        "# Check if the dataset is balanced\n",
        "\n",
        "# HINT: Use pd.Series(y).value_counts().sort_index()\n",
        "# Use plt.bar() or sns.countplot() for visualization\n",
        "\n",
        "# YOUR CODE HERE\n"
      ]
    },
    {
      "cell_type": "code",
      "execution_count": null,
      "metadata": {},
      "outputs": [],
      "source": [
        "# TODO: Visualize sample images\n",
        "# Reshape the first 10 images from 784 pixels back to 28x28\n",
        "# Display them in a 2x5 grid using matplotlib\n",
        "# Add the correct labels as titles\n",
        "\n",
        "# HINT: Use .reshape(28, 28) to reshape each image\n",
        "# Use plt.subplot(2, 5, i+1) and plt.imshow()\n",
        "# Set cmap='gray' for grayscale images\n",
        "\n",
        "# YOUR CODE HERE\n"
      ]
    },
    {
      "cell_type": "markdown",
      "metadata": {},
      "source": [
        "## Phase 3: Data Preprocessing 🔄\n",
        "\n",
        "Before training our neural network, we need to prepare the data properly.\n"
      ]
    },
    {
      "cell_type": "code",
      "execution_count": null,
      "metadata": {},
      "outputs": [],
      "source": [
        "# TODO: Normalize the pixel values\n",
        "# Pixel values are currently 0-255, we need to scale them to 0-1\n",
        "# This helps the neural network train more effectively\n",
        "\n",
        "# HINT: Divide X by 255.0 to normalize\n",
        "# Check the min and max values after normalization\n",
        "\n",
        "# YOUR CODE HERE\n"
      ]
    },
    {
      "cell_type": "code",
      "execution_count": null,
      "metadata": {},
      "outputs": [],
      "source": [
        "# TODO: Split the data into training and validation sets\n",
        "# Use 80% for training and 20% for validation\n",
        "# Use random_state=42 for reproducibility\n",
        "\n",
        "# HINT: Use train_test_split from sklearn.model_selection\n",
        "# X_train, X_val, y_train, y_val = train_test_split(...)\n",
        "\n",
        "# YOUR CODE HERE\n"
      ]
    },
    {
      "cell_type": "code",
      "execution_count": null,
      "metadata": {},
      "outputs": [],
      "source": [
        "# TODO: Convert to PyTorch tensors\n",
        "# Convert numpy arrays to PyTorch tensors\n",
        "# Convert data type to float32 for features\n",
        "# Convert labels to long type (int64)\n",
        "\n",
        "# HINT: Use torch.from_numpy() and .float() or .long()\n",
        "# Move tensors to the device (CPU or GPU)\n",
        "\n",
        "# YOUR CODE HERE\n"
      ]
    },
    {
      "cell_type": "markdown",
      "metadata": {},
      "source": [
        "## Phase 4: Neural Network Theory 🧠\n",
        "\n",
        "Before we implement our neural network, let's understand the key concepts:\n",
        "\n",
        "### What is a Neural Network?\n",
        "A neural network is inspired by how the human brain works. It consists of:\n",
        "- **Input Layer**: Receives the data (784 pixels for MNIST)\n",
        "- **Hidden Layers**: Process the information (we'll use 2 hidden layers)\n",
        "- **Output Layer**: Produces the final prediction (10 classes for digits 0-9)\n",
        "\n",
        "### Key Components:\n",
        "1. **Weights and Biases**: Parameters that the network learns\n",
        "2. **Activation Functions**: Add non-linearity (ReLU, Softmax)\n",
        "3. **Forward Propagation**: Data flows from input to output\n",
        "4. **Loss Function**: Measures how wrong our predictions are\n",
        "5. **Backpropagation**: Updates weights based on the error\n",
        "6. **Optimizer**: Decides how to update the weights (Adam, SGD)\n",
        "\n",
        "### Our Architecture:\n",
        "- Input: 784 features (28×28 pixels)\n",
        "- Hidden Layer 1: 128 neurons with ReLU activation\n",
        "- Hidden Layer 2: 64 neurons with ReLU activation\n",
        "- Output Layer: 10 neurons (one for each digit) with Softmax activation\n"
      ]
    },
    {
      "cell_type": "markdown",
      "metadata": {},
      "source": [
        "## Phase 5: Neural Network Implementation 🏗️\n",
        "\n",
        "Now let's build our neural network step by step.\n"
      ]
    },
    {
      "cell_type": "code",
      "execution_count": null,
      "metadata": {},
      "outputs": [],
      "source": [
        "# TODO: Define the neural network architecture\n",
        "# Create a class that inherits from torch.nn.Module\n",
        "# Define the layers in __init__ method:\n",
        "#   - Linear layer: 784 -> 128 (input to first hidden)\n",
        "#   - Linear layer: 128 -> 64 (first hidden to second hidden)\n",
        "#   - Linear layer: 64 -> 10 (second hidden to output)\n",
        "# Define forward method with ReLU activations between layers\n",
        "# Use softmax on the final output\n",
        "\n",
        "# HINT: Use torch.nn.Linear() for layers\n",
        "# Use torch.nn.functional.relu() and torch.nn.functional.softmax()\n",
        "# Don't forget to call super().__init__()\n",
        "\n",
        "class DigitClassifier(nn.Module):\n",
        "    def __init__(self):\n",
        "        super(DigitClassifier, self).__init__()\n",
        "        # YOUR CODE HERE\n",
        "        \n",
        "    def forward(self, x):\n",
        "        # YOUR CODE HERE\n",
        "        pass\n"
      ]
    },
    {
      "cell_type": "code",
      "execution_count": null,
      "metadata": {},
      "outputs": [],
      "source": [
        "# TODO: Initialize the model\n",
        "# Create an instance of your DigitClassifier\n",
        "# Move the model to the device (CPU or GPU)\n",
        "# Print the model architecture\n",
        "\n",
        "# HINT: model = DigitClassifier().to(device)\n",
        "# Use print(model) to see the architecture\n",
        "\n",
        "# YOUR CODE HERE\n"
      ]
    },
    {
      "cell_type": "code",
      "execution_count": null,
      "metadata": {},
      "outputs": [],
      "source": [
        "# TODO: Define loss function and optimizer\n",
        "# Use CrossEntropyLoss (combines softmax and negative log-likelihood)\n",
        "# Use Adam optimizer with learning rate 0.001\n",
        "\n",
        "# HINT: criterion = nn.CrossEntropyLoss()\n",
        "# optimizer = torch.optim.Adam(model.parameters(), lr=0.001)\n",
        "\n",
        "# YOUR CODE HERE\n"
      ]
    },
    {
      "cell_type": "markdown",
      "metadata": {},
      "source": [
        "## Phase 6: Training Pipeline 🚂\n",
        "\n",
        "Now comes the exciting part - training our neural network!\n"
      ]
    },
    {
      "cell_type": "code",
      "execution_count": null,
      "metadata": {},
      "outputs": [],
      "source": [
        "# TODO: Create data loaders for batching\n",
        "# Create TensorDataset from your training and validation tensors\n",
        "# Create DataLoader with batch_size=64 for training\n",
        "# Create DataLoader with batch_size=64 for validation\n",
        "# Set shuffle=True for training data\n",
        "\n",
        "# HINT: Use torch.utils.data.TensorDataset and DataLoader\n",
        "# train_dataset = TensorDataset(X_train, y_train)\n",
        "# train_loader = DataLoader(train_dataset, batch_size=64, shuffle=True)\n",
        "\n",
        "# YOUR CODE HERE\n"
      ]
    },
    {
      "cell_type": "code",
      "execution_count": null,
      "metadata": {},
      "outputs": [],
      "source": [
        "# TODO: Implement the training loop\n",
        "# Set number of epochs (start with 10)\n",
        "# Create lists to track training and validation losses\n",
        "# Create lists to track training and validation accuracies\n",
        "\n",
        "# For each epoch:\n",
        "#   1. Set model to training mode\n",
        "#   2. Initialize running loss and correct predictions\n",
        "#   3. For each batch in training data:\n",
        "#      - Zero the gradients\n",
        "#      - Forward pass\n",
        "#      - Calculate loss\n",
        "#      - Backward pass (backpropagation)\n",
        "#      - Update weights\n",
        "#      - Track loss and accuracy\n",
        "#   4. Calculate average training loss and accuracy\n",
        "#   5. Evaluate on validation set (similar process but no gradient updates)\n",
        "#   6. Print progress every epoch\n",
        "\n",
        "# HINT: Use model.train() and model.eval()\n",
        "# Use torch.no_grad() for validation\n",
        "# Use optimizer.zero_grad(), loss.backward(), optimizer.step()\n",
        "\n",
        "num_epochs = 10\n",
        "train_losses = []\n",
        "val_losses = []\n",
        "train_accuracies = []\n",
        "val_accuracies = []\n",
        "\n",
        "for epoch in range(num_epochs):\n",
        "    # Training phase\n",
        "    # YOUR CODE HERE\n",
        "    \n",
        "    # Validation phase\n",
        "    # YOUR CODE HERE\n",
        "    \n",
        "    # Print progress\n",
        "    print(f'Epoch [{epoch+1}/{num_epochs}]')\n",
        "    print(f'Train Loss: {train_loss:.4f}, Train Acc: {train_acc:.4f}')\n",
        "    print(f'Val Loss: {val_loss:.4f}, Val Acc: {val_acc:.4f}')\n",
        "    print('-' * 50)\n"
      ]
    },
    {
      "cell_type": "markdown",
      "metadata": {},
      "source": [
        "## 🎉 Congratulations! 🎉\n",
        "\n",
        "You've successfully:\n",
        "- ✅ Built your first neural network from scratch\n",
        "- ✅ Learned about forward propagation and backpropagation\n",
        "- ✅ Trained a model to recognize handwritten digits\n",
        "- ✅ Evaluated your model's performance\n",
        "- ✅ Created predictions for the Kaggle competition\n",
        "\n",
        "### 🚀 Next Steps:\n",
        "1. **Submit to Kaggle**: Upload your `submission.csv` to the competition\n",
        "2. **Experiment**: Try different architectures, learning rates, or optimizers\n",
        "3. **Learn More**: Explore convolutional neural networks (CNNs) for better performance\n",
        "4. **Share**: Update your README with results and insights\n",
        "\n",
        "### 📚 What You Learned:\n",
        "- Neural network architecture and components\n",
        "- PyTorch framework for deep learning\n",
        "- Training loops and optimization\n",
        "- Model evaluation and visualization\n",
        "- Computer vision preprocessing techniques\n",
        "\n",
        "**Great job on completing your first neural network project!** 🎊\n"
      ]
    },
    {
      "cell_type": "markdown",
      "metadata": {},
      "source": [
        "---\n",
        "\n",
        "## 📝 Learning Notes\n",
        "\n",
        "Use this section to jot down your thoughts, insights, and questions as you work through the notebook:\n",
        "\n",
        "### Key Insights:\n",
        "- \n",
        "- \n",
        "- \n",
        "\n",
        "### Questions to Explore:\n",
        "- \n",
        "- \n",
        "- \n",
        "\n",
        "### Future Improvements:\n",
        "- \n",
        "- \n",
        "- \n"
      ]
    },
    {
      "cell_type": "code",
      "execution_count": null,
      "metadata": {},
      "outputs": [],
      "source": []
    }
  ],
  "metadata": {
    "language_info": {
      "name": "python"
    }
  },
  "nbformat": 4,
  "nbformat_minor": 2
}
