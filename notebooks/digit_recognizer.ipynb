{
  "cells": [
    {
      "cell_type": "markdown",
      "metadata": {},
      "source": [
        "# 🚢 Digit Recognizer - Neural Network Learning Journey\n",
        "\n",
        "**Learning neural networks through the classic MNIST handwritten digit recognition challenge**\n",
        "\n",
        "---\n",
        "\n",
        "## 🎯 Learning Objectives\n",
        "\n",
        "By the end of this notebook, you will:\n",
        "- Understand how neural networks work from the ground up\n",
        "- Implement a neural network from scratch using PyTorch\n",
        "- Learn about forward propagation, backpropagation, and gradient descent\n",
        "- Train your first deep learning model\n",
        "- Evaluate model performance and make predictions\n",
        "\n",
        "---\n",
        "\n",
        "## 📋 Project Structure\n",
        "\n",
        "This notebook is organized into learning phases:\n",
        "1. **Environment Setup** - Import libraries and check setup\n",
        "2. **Data Exploration** - Load and understand the MNIST dataset\n",
        "3. **Neural Network Basics** - Learn the theory and implement from scratch\n",
        "4. **Training Pipeline** - Build the training loop and optimization\n",
        "5. **Model Evaluation** - Test performance and analyze results\n",
        "6. **Kaggle Submission** - Generate predictions for competition\n",
        "\n",
        "---\n"
      ]
    },
    {
      "cell_type": "markdown",
      "metadata": {},
      "source": [
        "## Phase 1: Environment Setup 🔧\n",
        "\n",
        "Let's start by importing all the necessary libraries and checking our environment.\n"
      ]
    },
    {
      "cell_type": "code",
      "execution_count": 19,
      "metadata": {},
      "outputs": [],
      "source": [
        "# TODO: Import the following libraries\n",
        "# - pandas (for data manipulation)\n",
        "# - numpy (for numerical operations)\n",
        "# - matplotlib.pyplot (for plotting)\n",
        "# - seaborn (for statistical visualizations)\n",
        "# - torch (PyTorch for neural networks)\n",
        "# - torch.nn (neural network modules)\n",
        "# - torch.optim (optimizers)\n",
        "# - torch.nn.functional (activation functions)\n",
        "# - sklearn.model_selection (for train/test split)\n",
        "# - sklearn.metrics (for evaluation metrics)\n",
        "\n",
        "\n",
        "# HINT: Use import statements like:\n",
        "# import pandas as pd\n",
        "# import numpy as np\n",
        "# import matplotlib.pyplot as plt\n",
        "# etc.\n",
        "\n",
        "# YOUR CODE HERE\n",
        "import pandas as pd\n",
        "import numpy as np\n",
        "import matplotlib.pyplot as plt\n",
        "import seaborn as sns\n",
        "\n",
        "import torch\n",
        "import torch.nn as nn\n",
        "import torch.optim as optim\n",
        "import torch.nn.functional as F\n",
        "\n",
        "from sklearn.model_selection import train_test_split\n",
        "from sklearn import metrics"
      ]
    },
    {
      "cell_type": "code",
      "execution_count": 20,
      "metadata": {},
      "outputs": [
        {
          "name": "stdout",
          "output_type": "stream",
          "text": [
            "cpu\n"
          ]
        }
      ],
      "source": [
        "# TODO: Check your PyTorch version and device availability\n",
        "# Print the PyTorch version\n",
        "# Check if CUDA is available (for GPU training)\n",
        "# Set the device to use (CPU or GPU)\n",
        "\n",
        "# HINT: Use torch.__version__ and torch.cuda.is_available()\n",
        "# Set device = torch.device('cuda' if torch.cuda.is_available() else 'cpu')\n",
        "\n",
        "# YOUR CODE HERE\n",
        "device = torch.device('cuda' if torch.cuda.is_available() else 'cpu')\n",
        "print(device)"
      ]
    },
    {
      "cell_type": "markdown",
      "metadata": {},
      "source": [
        "## Phase 2: Data Exploration 📊\n",
        "\n",
        "Now let's load and explore the MNIST dataset. The MNIST dataset contains 70,000 images of handwritten digits (0-9), each 28x28 pixels.\n"
      ]
    },
    {
      "cell_type": "code",
      "execution_count": 21,
      "metadata": {},
      "outputs": [
        {
          "name": "stdout",
          "output_type": "stream",
          "text": [
            "   label  pixel0  pixel1  pixel2  pixel3  pixel4  pixel5  pixel6  pixel7  \\\n",
            "0      1       0       0       0       0       0       0       0       0   \n",
            "1      0       0       0       0       0       0       0       0       0   \n",
            "2      1       0       0       0       0       0       0       0       0   \n",
            "3      4       0       0       0       0       0       0       0       0   \n",
            "4      0       0       0       0       0       0       0       0       0   \n",
            "\n",
            "   pixel8  ...  pixel774  pixel775  pixel776  pixel777  pixel778  pixel779  \\\n",
            "0       0  ...         0         0         0         0         0         0   \n",
            "1       0  ...         0         0         0         0         0         0   \n",
            "2       0  ...         0         0         0         0         0         0   \n",
            "3       0  ...         0         0         0         0         0         0   \n",
            "4       0  ...         0         0         0         0         0         0   \n",
            "\n",
            "   pixel780  pixel781  pixel782  pixel783  \n",
            "0         0         0         0         0  \n",
            "1         0         0         0         0  \n",
            "2         0         0         0         0  \n",
            "3         0         0         0         0  \n",
            "4         0         0         0         0  \n",
            "\n",
            "[5 rows x 785 columns]\n",
            "Shape of the dataset: (42000, 785)\n",
            "\n",
            "<class 'pandas.core.frame.DataFrame'>\n",
            "RangeIndex: 42000 entries, 0 to 41999\n",
            "Columns: 785 entries, label to pixel783\n",
            "dtypes: int64(785)\n",
            "memory usage: 251.5 MB\n",
            "Information about the dataset: None\n",
            "Description about the dataset:               label   pixel0   pixel1   pixel2   pixel3   pixel4   pixel5  \\\n",
            "count  42000.000000  42000.0  42000.0  42000.0  42000.0  42000.0  42000.0   \n",
            "mean       4.456643      0.0      0.0      0.0      0.0      0.0      0.0   \n",
            "std        2.887730      0.0      0.0      0.0      0.0      0.0      0.0   \n",
            "min        0.000000      0.0      0.0      0.0      0.0      0.0      0.0   \n",
            "25%        2.000000      0.0      0.0      0.0      0.0      0.0      0.0   \n",
            "50%        4.000000      0.0      0.0      0.0      0.0      0.0      0.0   \n",
            "75%        7.000000      0.0      0.0      0.0      0.0      0.0      0.0   \n",
            "max        9.000000      0.0      0.0      0.0      0.0      0.0      0.0   \n",
            "\n",
            "        pixel6   pixel7   pixel8  ...      pixel774      pixel775  \\\n",
            "count  42000.0  42000.0  42000.0  ...  42000.000000  42000.000000   \n",
            "mean       0.0      0.0      0.0  ...      0.219286      0.117095   \n",
            "std        0.0      0.0      0.0  ...      6.312890      4.633819   \n",
            "min        0.0      0.0      0.0  ...      0.000000      0.000000   \n",
            "25%        0.0      0.0      0.0  ...      0.000000      0.000000   \n",
            "50%        0.0      0.0      0.0  ...      0.000000      0.000000   \n",
            "75%        0.0      0.0      0.0  ...      0.000000      0.000000   \n",
            "max        0.0      0.0      0.0  ...    254.000000    254.000000   \n",
            "\n",
            "           pixel776     pixel777      pixel778      pixel779  pixel780  \\\n",
            "count  42000.000000  42000.00000  42000.000000  42000.000000   42000.0   \n",
            "mean       0.059024      0.02019      0.017238      0.002857       0.0   \n",
            "std        3.274488      1.75987      1.894498      0.414264       0.0   \n",
            "min        0.000000      0.00000      0.000000      0.000000       0.0   \n",
            "25%        0.000000      0.00000      0.000000      0.000000       0.0   \n",
            "50%        0.000000      0.00000      0.000000      0.000000       0.0   \n",
            "75%        0.000000      0.00000      0.000000      0.000000       0.0   \n",
            "max      253.000000    253.00000    254.000000     62.000000       0.0   \n",
            "\n",
            "       pixel781  pixel782  pixel783  \n",
            "count   42000.0   42000.0   42000.0  \n",
            "mean        0.0       0.0       0.0  \n",
            "std         0.0       0.0       0.0  \n",
            "min         0.0       0.0       0.0  \n",
            "25%         0.0       0.0       0.0  \n",
            "50%         0.0       0.0       0.0  \n",
            "75%         0.0       0.0       0.0  \n",
            "max         0.0       0.0       0.0  \n",
            "\n",
            "[8 rows x 785 columns]\n"
          ]
        }
      ],
      "source": [
        "# TODO: Load the training data\n",
        "# Read the train.csv file from the data/ directory\n",
        "# Display basic information about the dataset\n",
        "# Show the first few rows\n",
        "\n",
        "# HINT: Use pd.read_csv('data/train.csv')\n",
        "# Use .info(), .head(), .shape to explore the data\n",
        "\n",
        "# YOUR CODE HERE\n",
        "df = pd.read_csv(\"../data/train.csv\")\n",
        "print(df.head())\n",
        "print(\"Shape of the dataset:\", df.shape)\n",
        "print()\n",
        "print(\"Information about the dataset:\", df.info())\n",
        "print(\"Description about the dataset:\", df.describe())"
      ]
    },
    {
      "cell_type": "code",
      "execution_count": 27,
      "metadata": {},
      "outputs": [
        {
          "name": "stdout",
          "output_type": "stream",
          "text": [
            "Head of labels, firt 5 rows: 0    1\n",
            "1    0\n",
            "2    1\n",
            "3    4\n",
            "4    0\n",
            "Name: label, dtype: int64\n",
            "\n",
            "Now creating the X (features)...\n",
            "\n",
            "First five rows of:\n",
            "   pixel0  pixel1  pixel2  pixel3  pixel4  pixel5  pixel6  pixel7  pixel8  \\\n",
            "0       0       0       0       0       0       0       0       0       0   \n",
            "1       0       0       0       0       0       0       0       0       0   \n",
            "2       0       0       0       0       0       0       0       0       0   \n",
            "3       0       0       0       0       0       0       0       0       0   \n",
            "4       0       0       0       0       0       0       0       0       0   \n",
            "\n",
            "   pixel9  ...  pixel774  pixel775  pixel776  pixel777  pixel778  pixel779  \\\n",
            "0       0  ...         0         0         0         0         0         0   \n",
            "1       0  ...         0         0         0         0         0         0   \n",
            "2       0  ...         0         0         0         0         0         0   \n",
            "3       0  ...         0         0         0         0         0         0   \n",
            "4       0  ...         0         0         0         0         0         0   \n",
            "\n",
            "   pixel780  pixel781  pixel782  pixel783  \n",
            "0         0         0         0         0  \n",
            "1         0         0         0         0  \n",
            "2         0         0         0         0  \n",
            "3         0         0         0         0  \n",
            "4         0         0         0         0  \n",
            "\n",
            "[5 rows x 784 columns]\n",
            "\n",
            "Shape of X is: (42000, 784)\n",
            "Shape of y is: (42000,)\n",
            "\n",
            "After converting to NumPy:\n",
            "Type of X: <class 'numpy.ndarray'>\n",
            "Type of y: <class 'numpy.ndarray'>\n"
          ]
        }
      ],
      "source": [
        "# TODO: Separate features and labels\n",
        "# The first column is 'label' (the digit 0-9)\n",
        "# The remaining 784 columns are pixel values (28x28 = 784)\n",
        "# Create X (features) and y (labels) variables\n",
        "\n",
        "# HINT: Use .iloc[:, 1:] for features and .iloc[:, 0] for labels\n",
        "# Convert to numpy arrays using .values\n",
        "\n",
        "# YOUR CODE HERE\n",
        "y = df[\"label\"]\n",
        "print(\"Head of labels, firt 5 rows:\", y.head(5))\n",
        "print()\n",
        "print(\"Now creating the X (features)...\")\n",
        "print()\n",
        "X = df.drop([\"label\"], axis=1)\n",
        "print(\"First five rows of:\")\n",
        "print(X.head(5))\n",
        "print()\n",
        "print(\"Shape of X is:\", X.shape)\n",
        "print(\"Shape of y is:\", y.shape)\n",
        "\n",
        "# Convert to NumPy arrays\n",
        "X = X.values  # or X.to_numpy()\n",
        "y = y.values  # or y.to_numpy()\n",
        "\n",
        "print()\n",
        "print(\"After converting to NumPy:\")\n",
        "print(\"Type of X:\", type(X))\n",
        "print(\"Type of y:\", type(y))\n",
        "\n"
      ]
    },
    {
      "cell_type": "code",
      "execution_count": 30,
      "metadata": {},
      "outputs": [
        {
          "data": {
            "image/png": "[encoded data removed]",
            "text/plain": [
              "<Figure size 640x480 with 1 Axes>"
            ]
          },
          "metadata": {},
          "output_type": "display_data"
        }
      ],
      "source": [
        "# TODO: Explore the data distribution\n",
        "# Count how many samples we have for each digit (0-9)\n",
        "# Create a bar plot showing the distribution\n",
        "# Check if the dataset is balanced\n",
        "\n",
        "# HINT: Use pd.Series(y).value_counts().sort_index()\n",
        "# Use plt.bar() or sns.countplot() for visualization\n",
        "\n",
        "# YOUR CODE HERE\n",
        "counts = pd.Series(y).value_counts().sort_index()\n",
        "plt.bar(counts.index, counts.values)\n",
        "plt.xlabel(\"Digit\")\n",
        "plt.ylabel(\"Count\")\n",
        "plt.title(\"Distribution of Digits in the Dataset\")\n",
        "plt.show()"
      ]
    },
    {
      "cell_type": "code",
      "execution_count": null,
      "metadata": {},
      "outputs": [
        {
          "data": {
            "image/png": "[encoded data removed]",
            "text/plain": [
              "<Figure size 1000x500 with 10 Axes>"
            ]
          },
          "metadata": {},
          "output_type": "display_data"
        }
      ],
      "source": [
        "# Visualize the first 10 sample images in a 2x5 grid\n",
        "\n",
        "# The images come from the MNIST dataset, which is loaded into the DataFrame 'df'.\n",
        "# After dropping the 'label' column, the remaining columns in 'X' represent the pixel values (flattened 28x28 images).\n",
        "# Each row in 'X' is a single image, with 784 pixel values (0-255).\n",
        "# Here, we reshape each row back to 28x28 to display the original handwritten digit.\n",
        "\n",
        "plt.figure(figsize=(10, 5))\n",
        "for i in range(10):\n",
        "    img = X[i].reshape(28, 28)  # Reshape the flattened image back to 28x28 pixels\n",
        "    plt.subplot(2, 5, i + 1)\n",
        "    plt.imshow(img, cmap='gray')\n",
        "    plt.title(f\"Label: {y[i]}\")\n",
        "    plt.axis('off')\n",
        "plt.tight_layout()\n",
        "plt.show()\n"
      ]
    },
    {
      "cell_type": "code",
      "execution_count": 32,
      "metadata": {},
      "outputs": [
        {
          "name": "stdout",
          "output_type": "stream",
          "text": [
            "Flat array (first 28 pixels): [0 0 0 0 0 0 0 0 0 0 0 0 0 0 0 0 0 0 0 0 0 0 0 0 0 0 0 0]\n",
            "\n",
            "Reshaped (first row of the image):\n",
            "[0 0 0 0 0 0 0 0 0 0 0 0 0 0 0 0 0 0 0 0 0 0 0 0 0 0 0 0]\n",
            "\n",
            "Middle row (where digit likely is):\n",
            "[  0   0   0   0   0   0   0   0   0   0   0  20 206 254 254 198   7   0\n",
            "   0   0   0   0   0   0   0   0   0   0]\n"
          ]
        }
      ],
      "source": [
        "# Pick one image\n",
        "sample_image = X[0]\n",
        "print(\"Flat array (first 28 pixels):\", sample_image[:28])\n",
        "print()\n",
        "\n",
        "# Reshape it\n",
        "reshaped = sample_image.reshape(28, 28)\n",
        "print(\"Reshaped (first row of the image):\")\n",
        "print(reshaped[0])  # First row of pixels\n",
        "print()\n",
        "print(\"Middle row (where digit likely is):\")\n",
        "print(reshaped[14])  # Middle row - usually has the digit"
      ]
    },
    {
      "cell_type": "markdown",
      "metadata": {},
      "source": [
        "## Phase 3: Data Preprocessing 🔄\n",
        "\n",
        "Before training our neural network, we need to prepare the data properly.\n"
      ]
    },
    {
      "cell_type": "code",
      "execution_count": 7,
      "metadata": {},
      "outputs": [],
      "source": [
        "# TODO: Normalize the pixel values\n",
        "# Pixel values are currently 0-255, we need to scale them to 0-1\n",
        "# This helps the neural network train more effectively\n",
        "\n",
        "# HINT: Divide X by 255.0 to normalize\n",
        "# Check the min and max values after normalization\n",
        "\n",
        "# YOUR CODE HERE\n"
      ]
    },
    {
      "cell_type": "code",
      "execution_count": 8,
      "metadata": {},
      "outputs": [],
      "source": [
        "# TODO: Split the data into training and validation sets\n",
        "# Use 80% for training and 20% for validation\n",
        "# Use random_state=42 for reproducibility\n",
        "\n",
        "# HINT: Use train_test_split from sklearn.model_selection\n",
        "# X_train, X_val, y_train, y_val = train_test_split(...)\n",
        "\n",
        "# YOUR CODE HERE\n"
      ]
    },
    {
      "cell_type": "code",
      "execution_count": 9,
      "metadata": {},
      "outputs": [],
      "source": [
        "# TODO: Convert to PyTorch tensors\n",
        "# Convert numpy arrays to PyTorch tensors\n",
        "# Convert data type to float32 for features\n",
        "# Convert labels to long type (int64)\n",
        "\n",
        "# HINT: Use torch.from_numpy() and .float() or .long()\n",
        "# Move tensors to the device (CPU or GPU)\n",
        "\n",
        "# YOUR CODE HERE\n"
      ]
    },
    {
      "cell_type": "markdown",
      "metadata": {},
      "source": [
        "## Phase 4: Neural Network Theory 🧠\n",
        "\n",
        "Before we implement our neural network, let's understand the key concepts:\n",
        "\n",
        "### What is a Neural Network?\n",
        "A neural network is inspired by how the human brain works. It consists of:\n",
        "- **Input Layer**: Receives the data (784 pixels for MNIST)\n",
        "- **Hidden Layers**: Process the information (we'll use 2 hidden layers)\n",
        "- **Output Layer**: Produces the final prediction (10 classes for digits 0-9)\n",
        "\n",
        "### Key Components:\n",
        "1. **Weights and Biases**: Parameters that the network learns\n",
        "2. **Activation Functions**: Add non-linearity (ReLU, Softmax)\n",
        "3. **Forward Propagation**: Data flows from input to output\n",
        "4. **Loss Function**: Measures how wrong our predictions are\n",
        "5. **Backpropagation**: Updates weights based on the error\n",
        "6. **Optimizer**: Decides how to update the weights (Adam, SGD)\n",
        "\n",
        "### Our Architecture:\n",
        "- Input: 784 features (28×28 pixels)\n",
        "- Hidden Layer 1: 128 neurons with ReLU activation\n",
        "- Hidden Layer 2: 64 neurons with ReLU activation\n",
        "- Output Layer: 10 neurons (one for each digit) with Softmax activation\n"
      ]
    },
    {
      "cell_type": "markdown",
      "metadata": {},
      "source": [
        "## Phase 5: Neural Network Implementation 🏗️\n",
        "\n",
        "Now let's build our neural network step by step.\n"
      ]
    },
    {
      "cell_type": "code",
      "execution_count": 10,
      "metadata": {},
      "outputs": [
        {
          "ename": "NameError",
          "evalue": "name 'nn' is not defined",
          "output_type": "error",
          "traceback": [
            "\u001b[31m---------------------------------------------------------------------------\u001b[39m",
            "\u001b[31mNameError\u001b[39m                                 Traceback (most recent call last)",
            "\u001b[36mCell\u001b[39m\u001b[36m \u001b[39m\u001b[32mIn[10]\u001b[39m\u001b[32m, line 14\u001b[39m\n\u001b[32m      1\u001b[39m \u001b[38;5;66;03m# TODO: Define the neural network architecture\u001b[39;00m\n\u001b[32m      2\u001b[39m \u001b[38;5;66;03m# Create a class that inherits from torch.nn.Module\u001b[39;00m\n\u001b[32m      3\u001b[39m \u001b[38;5;66;03m# Define the layers in __init__ method:\u001b[39;00m\n\u001b[32m   (...)\u001b[39m\u001b[32m     11\u001b[39m \u001b[38;5;66;03m# Use torch.nn.functional.relu() and torch.nn.functional.softmax()\u001b[39;00m\n\u001b[32m     12\u001b[39m \u001b[38;5;66;03m# Don't forget to call super().__init__()\u001b[39;00m\n\u001b[32m---> \u001b[39m\u001b[32m14\u001b[39m \u001b[38;5;28;01mclass\u001b[39;00m\u001b[38;5;250m \u001b[39m\u001b[34;01mDigitClassifier\u001b[39;00m(\u001b[43mnn\u001b[49m.Module):\n\u001b[32m     15\u001b[39m     \u001b[38;5;28;01mdef\u001b[39;00m\u001b[38;5;250m \u001b[39m\u001b[34m__init__\u001b[39m(\u001b[38;5;28mself\u001b[39m):\n\u001b[32m     16\u001b[39m         \u001b[38;5;28msuper\u001b[39m(DigitClassifier, \u001b[38;5;28mself\u001b[39m).\u001b[34m__init__\u001b[39m()\n",
            "\u001b[31mNameError\u001b[39m: name 'nn' is not defined"
          ]
        }
      ],
      "source": [
        "# TODO: Define the neural network architecture\n",
        "# Create a class that inherits from torch.nn.Module\n",
        "# Define the layers in __init__ method:\n",
        "#   - Linear layer: 784 -> 128 (input to first hidden)\n",
        "#   - Linear layer: 128 -> 64 (first hidden to second hidden)\n",
        "#   - Linear layer: 64 -> 10 (second hidden to output)\n",
        "# Define forward method with ReLU activations between layers\n",
        "# Use softmax on the final output\n",
        "\n",
        "# HINT: Use torch.nn.Linear() for layers\n",
        "# Use torch.nn.functional.relu() and torch.nn.functional.softmax()\n",
        "# Don't forget to call super().__init__()\n",
        "\n",
        "class DigitClassifier(nn.Module):\n",
        "    def __init__(self):\n",
        "        super(DigitClassifier, self).__init__()\n",
        "        # YOUR CODE HERE\n",
        "        \n",
        "    def forward(self, x):\n",
        "        # YOUR CODE HERE\n",
        "        pass\n"
      ]
    },
    {
      "cell_type": "code",
      "execution_count": null,
      "metadata": {},
      "outputs": [],
      "source": [
        "# TODO: Initialize the model\n",
        "# Create an instance of your DigitClassifier\n",
        "# Move the model to the device (CPU or GPU)\n",
        "# Print the model architecture\n",
        "\n",
        "# HINT: model = DigitClassifier().to(device)\n",
        "# Use print(model) to see the architecture\n",
        "\n",
        "# YOUR CODE HERE\n"
      ]
    },
    {
      "cell_type": "code",
      "execution_count": null,
      "metadata": {},
      "outputs": [],
      "source": [
        "# TODO: Define loss function and optimizer\n",
        "# Use CrossEntropyLoss (combines softmax and negative log-likelihood)\n",
        "# Use Adam optimizer with learning rate 0.001\n",
        "\n",
        "# HINT: criterion = nn.CrossEntropyLoss()\n",
        "# optimizer = torch.optim.Adam(model.parameters(), lr=0.001)\n",
        "\n",
        "# YOUR CODE HERE\n"
      ]
    },
    {
      "cell_type": "markdown",
      "metadata": {},
      "source": [
        "## Phase 6: Training Pipeline 🚂\n",
        "\n",
        "Now comes the exciting part - training our neural network!\n"
      ]
    },
    {
      "cell_type": "code",
      "execution_count": null,
      "metadata": {},
      "outputs": [],
      "source": [
        "# TODO: Create data loaders for batching\n",
        "# Create TensorDataset from your training and validation tensors\n",
        "# Create DataLoader with batch_size=64 for training\n",
        "# Create DataLoader with batch_size=64 for validation\n",
        "# Set shuffle=True for training data\n",
        "\n",
        "# HINT: Use torch.utils.data.TensorDataset and DataLoader\n",
        "# train_dataset = TensorDataset(X_train, y_train)\n",
        "# train_loader = DataLoader(train_dataset, batch_size=64, shuffle=True)\n",
        "\n",
        "# YOUR CODE HERE\n"
      ]
    },
    {
      "cell_type": "code",
      "execution_count": null,
      "metadata": {},
      "outputs": [],
      "source": [
        "# TODO: Implement the training loop\n",
        "# Set number of epochs (start with 10)\n",
        "# Create lists to track training and validation losses\n",
        "# Create lists to track training and validation accuracies\n",
        "\n",
        "# For each epoch:\n",
        "#   1. Set model to training mode\n",
        "#   2. Initialize running loss and correct predictions\n",
        "#   3. For each batch in training data:\n",
        "#      - Zero the gradients\n",
        "#      - Forward pass\n",
        "#      - Calculate loss\n",
        "#      - Backward pass (backpropagation)\n",
        "#      - Update weights\n",
        "#      - Track loss and accuracy\n",
        "#   4. Calculate average training loss and accuracy\n",
        "#   5. Evaluate on validation set (similar process but no gradient updates)\n",
        "#   6. Print progress every epoch\n",
        "\n",
        "# HINT: Use model.train() and model.eval()\n",
        "# Use torch.no_grad() for validation\n",
        "# Use optimizer.zero_grad(), loss.backward(), optimizer.step()\n",
        "\n",
        "num_epochs = 10\n",
        "train_losses = []\n",
        "val_losses = []\n",
        "train_accuracies = []\n",
        "val_accuracies = []\n",
        "\n",
        "for epoch in range(num_epochs):\n",
        "    # Training phase\n",
        "    # YOUR CODE HERE\n",
        "    \n",
        "    # Validation phase\n",
        "    # YOUR CODE HERE\n",
        "    \n",
        "    # Print progress\n",
        "    print(f'Epoch [{epoch+1}/{num_epochs}]')\n",
        "    print(f'Train Loss: {train_loss:.4f}, Train Acc: {train_acc:.4f}')\n",
        "    print(f'Val Loss: {val_loss:.4f}, Val Acc: {val_acc:.4f}')\n",
        "    print('-' * 50)\n"
      ]
    },
    {
      "cell_type": "markdown",
      "metadata": {},
      "source": [
        "## 🎉 Congratulations! 🎉\n",
        "\n",
        "You've successfully:\n",
        "- ✅ Built your first neural network from scratch\n",
        "- ✅ Learned about forward propagation and backpropagation\n",
        "- ✅ Trained a model to recognize handwritten digits\n",
        "- ✅ Evaluated your model's performance\n",
        "- ✅ Created predictions for the Kaggle competition\n",
        "\n",
        "### 🚀 Next Steps:\n",
        "1. **Submit to Kaggle**: Upload your `submission.csv` to the competition\n",
        "2. **Experiment**: Try different architectures, learning rates, or optimizers\n",
        "3. **Learn More**: Explore convolutional neural networks (CNNs) for better performance\n",
        "4. **Share**: Update your README with results and insights\n",
        "\n",
        "### 📚 What You Learned:\n",
        "- Neural network architecture and components\n",
        "- PyTorch framework for deep learning\n",
        "- Training loops and optimization\n",
        "- Model evaluation and visualization\n",
        "- Computer vision preprocessing techniques\n",
        "\n",
        "**Great job on completing your first neural network project!** 🎊\n"
      ]
    },
    {
      "cell_type": "markdown",
      "metadata": {},
      "source": [
        "---\n",
        "\n",
        "## 📝 Learning Notes\n",
        "\n",
        "Use this section to jot down your thoughts, insights, and questions as you work through the notebook:\n",
        "\n",
        "### Key Insights:\n",
        "- \n",
        "- \n",
        "- \n",
        "\n",
        "### Questions to Explore:\n",
        "- \n",
        "- \n",
        "- \n",
        "\n",
        "### Future Improvements:\n",
        "- \n",
        "- \n",
        "- \n"
      ]
    },
    {
      "cell_type": "code",
      "execution_count": null,
      "metadata": {},
      "outputs": [],
      "source": []
    }
  ],
  "metadata": {
    "kernelspec": {
      "display_name": "Codecademy ML",
      "language": "python",
      "name": "codeacademy"
    },
    "language_info": {
      "codemirror_mode": {
        "name": "ipython",
        "version": 3
      },
      "file_extension": ".py",
      "mimetype": "text/x-python",
      "name": "python",
      "nbconvert_exporter": "python",
      "pygments_lexer": "ipython3",
      "version": "3.11.7"
    }
  },
  "nbformat": 4,
  "nbformat_minor": 2
}
